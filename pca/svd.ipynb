{
 "cells": [
  {
   "cell_type": "markdown",
   "metadata": {},
   "source": [
    "# Singular Value Decomposition\n",
    "\n",
    "More description here"
   ]
  },
  {
   "cell_type": "code",
   "execution_count": 31,
   "metadata": {
     "tags": [
       "remove_cell"
     ]
   },
   "outputs": [],
   "source": [
    "# This is for setting the theme, please skip this part\n",
    "import matplotlib.pyplot as plt\n",
    "import matplotlib.patches as patches\n",
    "import numpy as np\n",
    "\n",
    "def major_formatter(value, tick):\n",
    "  if value == 0:\n",
    "    return ''\n",
    "  return int(value)\n",
    "\n",
    "def beautify(ax):\n",
    "  ax.set_xlim(-5, 5)\n",
    "  ax.set_ylim(-5, 5)\n",
    "  ax.set_aspect('equal')\n",
    "  ax.spines['bottom'].set_position('zero')\n",
    "  ax.spines['left'].set_position('zero')\n",
    "  ax.spines['top'].set_visible(False)\n",
    "  ax.spines['right'].set_visible(False)\n",
    "  ax.spines['bottom'].set_color('#95a5a6')\n",
    "  ax.spines['left'].set_color('#95a5a6')\n",
    "  ax.xaxis.set_major_formatter(plt.FuncFormatter(major_formatter))\n",
    "  ax.yaxis.set_major_formatter(plt.FuncFormatter(major_formatter))\n",
    "\n",
    "  return ax\n",
    "\n",
    "def plot(x = 1, y = 1):\n",
    "  fig, axs = plt.subplots(x, y)\n",
    "  plt.rcParams[\"figure.figsize\"] = (5 * x, 5 * y)\n",
    "  if (x * y > 1):\n",
    "    for ax in axs.ravel():\n",
    "      beautify(ax)\n",
    "  else:\n",
    "    beautify(axs)\n",
    "  return axs\n"
   ]
  },
  {
   "cell_type": "markdown",
   "metadata": {},
   "source": [
    "## Scale\n",
    "\n",
    "Explain here"
   ]
  },
  {
   "cell_type": "code",
   "execution_count": 19,
   "metadata": {},
   "outputs": [
    {
     "data": {
      "text/plain": [
       "<matplotlib.patches.Polygon at 0x17e791cd7b8>"
      ]
     },
     "execution_count": 19,
     "metadata": {},
     "output_type": "execute_result"
    },
    {
     "data": {
      "image/png": "[encoded data removed]",
      "text/plain": [
       "<Figure size 360x360 with 1 Axes>"
      ]
     },
     "metadata": {
      "needs_background": "light"
     },
     "output_type": "display_data"
    }
   ],
   "source": [
    "A = np.array([\n",
    "  [-1,  1.5],\n",
    "  [-1, -1.5],\n",
    "  [ 1, -1.5],\n",
    "  [ 1,  1.5]\n",
    "])\n",
    "\n",
    "ax = plot()\n",
    "ax.add_patch(patches.Polygon(A, fill=False, edgecolor='#FF0000', linewidth=2))"
   ]
  },
  {
   "cell_type": "code",
   "execution_count": 23,
   "metadata": {},
   "outputs": [
    {
     "data": {
      "text/plain": [
       "<matplotlib.patches.Polygon at 0x17e7936c400>"
      ]
     },
     "execution_count": 23,
     "metadata": {},
     "output_type": "execute_result"
    },
    {
     "data": {
      "image/png": "[encoded data removed]",
      "text/plain": [
       "<Figure size 360x360 with 1 Axes>"
      ]
     },
     "metadata": {
      "needs_background": "light"
     },
     "output_type": "display_data"
    }
   ],
   "source": [
    "B = np.array([\n",
    "  [3, 0],\n",
    "  [0, 2]\n",
    "])\n",
    "\n",
    "C = np.dot(A, B)\n",
    "\n",
    "ax = plot()\n",
    "ax.add_patch(patches.Polygon(A, fill=False, edgecolor='#95a5a6', linewidth=2, linestyle='--'))\n",
    "ax.add_patch(patches.Polygon(C, fill=False, edgecolor='#FF0000', linewidth=2))"
   ]
  },
  {
   "cell_type": "markdown",
   "metadata": {},
   "source": [
    "### Rotation\n",
    "\n",
    "Explain here"
   ]
  },
  {
   "cell_type": "code",
   "execution_count": 24,
   "metadata": {},
   "outputs": [
    {
     "data": {
      "text/plain": [
       "<matplotlib.patches.Polygon at 0x17e793f12b0>"
      ]
     },
     "execution_count": 24,
     "metadata": {},
     "output_type": "execute_result"
    },
    {
     "data": {
      "image/png": "[encoded data removed]",
      "text/plain": [
       "<Figure size 360x360 with 1 Axes>"
      ]
     },
     "metadata": {
      "needs_background": "light"
     },
     "output_type": "display_data"
    }
   ],
   "source": [
    "B = np.array([\n",
    "  [0.8, 0.6],\n",
    "  [0.6, -0.8]\n",
    "]) \n",
    "\n",
    "C = np.dot(A, B)\n",
    "\n",
    "ax = plot()\n",
    "ax.add_patch(patches.Polygon(A, fill=False, edgecolor='#95a5a6', linewidth=2, linestyle='--'))\n",
    "ax.add_patch(patches.Polygon(C, fill=False, edgecolor='#FF0000', linewidth=2))"
   ]
  },
  {
   "cell_type": "markdown",
   "metadata": {},
   "source": [
    "### Combining\n",
    "\n",
    "Explain here"
   ]
  },
  {
   "cell_type": "code",
   "execution_count": 25,
   "metadata": {},
   "outputs": [
    {
     "data": {
      "text/plain": [
       "<matplotlib.patches.Polygon at 0x17e78fdc320>"
      ]
     },
     "execution_count": 25,
     "metadata": {},
     "output_type": "execute_result"
    },
    {
     "data": {
      "image/png": "[encoded data removed]",
      "text/plain": [
       "<Figure size 360x360 with 1 Axes>"
      ]
     },
     "metadata": {
      "needs_background": "light"
     },
     "output_type": "display_data"
    }
   ],
   "source": [
    "B = np.array([\n",
    "  [3, 0],\n",
    "  [0, 2]\n",
    "])\n",
    "\n",
    "C = np.array([\n",
    "  [0.8, 0.6],\n",
    "  [0.6, -0.8]\n",
    "]) \n",
    "\n",
    "D = np.dot(B, C)\n",
    "E = np.dot(A, D)\n",
    "\n",
    "ax = plot()\n",
    "ax.add_patch(patches.Polygon(A, fill=False, edgecolor='#95a5a6', linewidth=2, linestyle='--'))\n",
    "ax.add_patch(patches.Polygon(E, fill=False, edgecolor='#FF0000', linewidth=2))"
   ]
  },
  {
   "cell_type": "markdown",
   "metadata": {},
   "source": [
    "## Singular Value Decomposition (SVD)\n",
    "\n",
    "Singular Value Decomposition breaks down the matrix into three basic linear transformations.\n",
    "\n",
    "$ \\huge A = U\\Sigma V^t $\n",
    "\n",
    "- $U$ is a rotation matrix. It is also an **orthogonal matrix**.\n",
    "- $\\Sigma$ is a scale matrix or diagonal matrix. Technically, we call it **singular values**\n",
    "- $V^t$ is rotation matrix. It is also an **orthogonal matrix**\n",
    "\n",
    "#### For example"
   ]
  },
  {
   "cell_type": "code",
   "execution_count": 26,
   "metadata": {},
   "outputs": [
    {
     "data": {
      "text/plain": [
       "<matplotlib.patches.Polygon at 0x17e78effe10>"
      ]
     },
     "execution_count": 26,
     "metadata": {},
     "output_type": "execute_result"
    },
    {
     "data": {
      "image/png": "[encoded data removed]",
      "text/plain": [
       "<Figure size 360x360 with 1 Axes>"
      ]
     },
     "metadata": {
      "needs_background": "light"
     },
     "output_type": "display_data"
    }
   ],
   "source": [
    "Z = np.array([\n",
    "  [2  , 1],\n",
    "  [1.5, 1.5]\n",
    "])\n",
    "\n",
    "X = np.dot(A, Z)\n",
    "\n",
    "ax = plot()\n",
    "ax.add_patch(patches.Polygon(A, fill=False, edgecolor='#95a5a6', linewidth=2, linestyle='--'))\n",
    "ax.add_patch(patches.Polygon(X, fill=False, edgecolor='#FF0000', linewidth=2))"
   ]
  },
  {
   "cell_type": "markdown",
   "metadata": {},
   "source": [
    "More explanation here"
   ]
  },
  {
   "cell_type": "code",
   "execution_count": 33,
   "metadata": {},
   "outputs": [
    {
     "data": {
      "text/plain": [
       "<matplotlib.patches.Polygon at 0x17e79e488d0>"
      ]
     },
     "execution_count": 33,
     "metadata": {},
     "output_type": "execute_result"
    },
    {
     "data": {
      "image/png": "[encoded data removed]",
      "text/plain": [
       "<Figure size 720x720 with 4 Axes>"
      ]
     },
     "metadata": {
      "needs_background": "light"
     },
     "output_type": "display_data"
    }
   ],
   "source": [
    "U, S, Vt = np.linalg.svd(Z)\n",
    "\n",
    "axs = plot(2, 2)\n",
    "\n",
    "axs[0][0].set_title(\"$R$\")\n",
    "axs[0][0].add_patch(patches.Polygon(A, fill=False, edgecolor='red', linewidth=2))\n",
    "axs[0][1].add_patch(patches.Polygon(A, fill=False, edgecolor='#95a5a6', linewidth=2, linestyle='--'))\n",
    "axs[1][0].add_patch(patches.Polygon(A, fill=False, edgecolor='#ecf0f1', linewidth=2, linestyle='--'))\n",
    "axs[1][1].add_patch(patches.Polygon(A, fill=False, edgecolor='#ecf0f1', linewidth=2, linestyle='--'))\n",
    "\n",
    "T = np.dot(A, U)\n",
    "axs[0][1].set_title(\"$R . U$\")\n",
    "axs[0][1].add_patch(patches.Polygon(T, fill=False, edgecolor='red', linewidth=2,))\n",
    "axs[1][0].add_patch(patches.Polygon(T, fill=False, edgecolor='#95a5a6', linewidth=2, linestyle='--'))\n",
    "axs[1][1].add_patch(patches.Polygon(T, fill=False, edgecolor='#ecf0f1', linewidth=2, linestyle='--'))\n",
    "\n",
    "T = np.dot(T, np.diag(S))\n",
    "axs[1][0].set_title(\"$R . U . \\Sigma $\")\n",
    "axs[1][1].add_patch(patches.Polygon(T, fill=False, edgecolor='#95a5a6', linewidth=2, linestyle='--'))\n",
    "axs[1][0].add_patch(patches.Polygon(T, fill=False, edgecolor='red', linewidth=2,))\n",
    "\n",
    "T = np.dot(T, Vt)\n",
    "axs[1][1].set_title(\"$R . U . \\Sigma V^t $\")\n",
    "axs[1][1].add_patch(patches.Polygon(T, fill=False, edgecolor='red', linewidth=2,))"
   ]
  },
  {
   "cell_type": "markdown",
   "metadata": {},
   "source": [
    "### PCA and SVD Relation\n",
    "\n",
    "Explanation here"
   ]
  }
 ],
 "metadata": {
  "kernelspec": {
   "display_name": "Python 3",
   "language": "python",
   "name": "python3"
  },
  "language_info": {
   "codemirror_mode": {
    "name": "ipython",
    "version": 3
   },
   "file_extension": ".py",
   "mimetype": "text/x-python",
   "name": "python",
   "nbconvert_exporter": "python",
   "pygments_lexer": "ipython3",
   "version": "3.7.3"
  }
 },
 "nbformat": 4,
 "nbformat_minor": 2
}
