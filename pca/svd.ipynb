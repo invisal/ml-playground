{
 "cells": [
  {
   "cell_type": "markdown",
   "metadata": {},
   "source": [
    "# Singular Value Decomposition\n",
    "\n",
    "To understand Singular Value Decomposition, we need to understand what is **linear transformation**. When multiply a vector by a matrix, it transforms the vector by changing the space that vector laid on. But why don't we just call it **transformation**? Because we can only scale, rotate, and flip the the space. We cannot curve the space. That's why we called it a **linear transformation**\n",
    "\n",
    "[animated picture]\n",
    "\n",
    "In the picture, we see that by transforming the space, we also transform the vector inside that space. We are going to discuss two basic linear transformations: **scaling** and **rotation**."
   ]
  },
  {
   "cell_type": "code",
   "execution_count": 2,
   "metadata": {
    "slideshow": {
     "slide_type": "-"
    },
    "tags": [
     "remove_cell"
    ]
   },
   "outputs": [],
   "source": [
    "# This is for setting the theme, please skip this part\n",
    "import matplotlib.pyplot as plt\n",
    "import matplotlib.patches as patches\n",
    "import numpy as np\n",
    "\n",
    "def major_formatter(value, tick):\n",
    "  if value == 0:\n",
    "    return ''\n",
    "  return int(value)\n",
    "\n",
    "def beautify(ax):\n",
    "  ax.set_xlim(-5, 5)\n",
    "  ax.set_ylim(-5, 5)\n",
    "  ax.set_aspect('equal')\n",
    "  ax.spines['bottom'].set_position('zero')\n",
    "  ax.spines['left'].set_position('zero')\n",
    "  ax.spines['top'].set_visible(False)\n",
    "  ax.spines['right'].set_visible(False)\n",
    "  ax.spines['bottom'].set_color('#95a5a6')\n",
    "  ax.spines['left'].set_color('#95a5a6')\n",
    "  ax.xaxis.set_major_formatter(plt.FuncFormatter(major_formatter))\n",
    "  ax.yaxis.set_major_formatter(plt.FuncFormatter(major_formatter))\n",
    "\n",
    "  return ax\n",
    "\n",
    "def plot(x = 1, y = 1):\n",
    "  fig, axs = plt.subplots(x, y)\n",
    "  plt.rcParams[\"figure.figsize\"] = (5 * x, 5 * y)\n",
    "  if (x * y > 1):\n",
    "    for ax in axs.ravel():\n",
    "      beautify(ax)\n",
    "  else:\n",
    "    beautify(axs)\n",
    "  return axs"
   ]
  },
  {
   "cell_type": "markdown",
   "metadata": {},
   "source": [
    "Let put 4 points in a 2d-dimensional space and we are going to see how they are transforming as we scale and rotate the space. We can combine those 4 points into one matrix where each column represent a single point.\n",
    "\n",
    "$\n",
    "\\large P = \n",
    "\\begin{bmatrix}\n",
    "-1.0 & -1.0 & 1.0 & 1.0 \\\\\n",
    "1.5 & -1.5 & -1.5 & 1.5 \n",
    "\\end{bmatrix}\n",
    "$\n",
    "\n",
    "## Scale\n",
    "\n",
    "Explain here"
   ]
  },
  {
   "cell_type": "code",
   "execution_count": 7,
   "metadata": {},
   "outputs": [
    {
     "data": {
      "text/plain": [
       "<matplotlib.patches.Polygon at 0x1ba38031cc0>"
      ]
     },
     "execution_count": 7,
     "metadata": {},
     "output_type": "execute_result"
    },
    {
     "data": {
      "image/png": "[encoded data removed]",
      "text/plain": [
       "<Figure size 360x360 with 1 Axes>"
      ]
     },
     "metadata": {
      "needs_background": "light"
     },
     "output_type": "display_data"
    }
   ],
   "source": [
    "P = np.array([\n",
    "  [-1.0, -1.0,  1.0, 1.0],\n",
    "  [ 1.5, -1.5, -1.5, 1.5]\n",
    "])\n",
    "\n",
    "ax = plot()\n",
    "ax.add_patch(patches.Polygon(np.transpose(P), fill=False, edgecolor='#FF0000', linewidth=2))"
   ]
  },
  {
   "cell_type": "code",
   "execution_count": 8,
   "metadata": {},
   "outputs": [
    {
     "data": {
      "text/plain": [
       "<matplotlib.patches.Polygon at 0x1ba380cc198>"
      ]
     },
     "execution_count": 8,
     "metadata": {},
     "output_type": "execute_result"
    },
    {
     "data": {
      "image/png": "[encoded data removed]",
      "text/plain": [
       "<Figure size 360x360 with 1 Axes>"
      ]
     },
     "metadata": {
      "needs_background": "light"
     },
     "output_type": "display_data"
    }
   ],
   "source": [
    "A = np.array([\n",
    "  [3, 0],\n",
    "  [0, 2]\n",
    "])\n",
    "\n",
    "B = np.dot(A, P)\n",
    "\n",
    "ax = plot()\n",
    "ax.add_patch(patches.Polygon(np.transpose(P), fill=False, edgecolor='#95a5a6', linewidth=2, linestyle='--'))\n",
    "ax.add_patch(patches.Polygon(np.transpose(B), fill=False, edgecolor='#FF0000', linewidth=2))"
   ]
  },
  {
   "cell_type": "markdown",
   "metadata": {},
   "source": [
    "### Rotation\n",
    "\n",
    "Explain here"
   ]
  },
  {
   "cell_type": "code",
   "execution_count": 11,
   "metadata": {},
   "outputs": [
    {
     "data": {
      "text/plain": [
       "<matplotlib.patches.Polygon at 0x1ba381bfef0>"
      ]
     },
     "execution_count": 11,
     "metadata": {},
     "output_type": "execute_result"
    },
    {
     "data": {
      "image/png": "[encoded data removed]",
      "text/plain": [
       "<Figure size 360x360 with 1 Axes>"
      ]
     },
     "metadata": {
      "needs_background": "light"
     },
     "output_type": "display_data"
    }
   ],
   "source": [
    "A = np.array([\n",
    "  [0.8, 0.6],\n",
    "  [0.6, -0.8]\n",
    "]) \n",
    "\n",
    "B = np.dot(A, P)\n",
    "\n",
    "ax = plot()\n",
    "ax.add_patch(patches.Polygon(np.transpose(P), fill=False, edgecolor='#95a5a6', linewidth=2, linestyle='--'))\n",
    "ax.add_patch(patches.Polygon(np.transpose(B), fill=False, edgecolor='#FF0000', linewidth=2))"
   ]
  },
  {
   "cell_type": "markdown",
   "metadata": {},
   "source": [
    "### Combining\n",
    "\n",
    "Explain here"
   ]
  },
  {
   "cell_type": "code",
   "execution_count": 14,
   "metadata": {},
   "outputs": [
    {
     "data": {
      "text/plain": [
       "<matplotlib.patches.Polygon at 0x1ba382fe3c8>"
      ]
     },
     "execution_count": 14,
     "metadata": {},
     "output_type": "execute_result"
    },
    {
     "data": {
      "image/png": "[encoded data removed]",
      "text/plain": [
       "<Figure size 360x360 with 1 Axes>"
      ]
     },
     "metadata": {
      "needs_background": "light"
     },
     "output_type": "display_data"
    }
   ],
   "source": [
    "A = np.array([\n",
    "  [0.8, 0.6],\n",
    "  [0.6, -0.8]\n",
    "]) \n",
    "\n",
    "B = np.array([\n",
    "  [3, 0],\n",
    "  [0, 2]\n",
    "])\n",
    "\n",
    "C = np.dot(A, B)\n",
    "E = np.dot(C, P)\n",
    "\n",
    "ax = plot()\n",
    "ax.add_patch(patches.Polygon(np.transpose(P), fill=False, edgecolor='#95a5a6', linewidth=2, linestyle='--'))\n",
    "ax.add_patch(patches.Polygon(np.transpose(E), fill=False, edgecolor='#FF0000', linewidth=2))"
   ]
  },
  {
   "cell_type": "markdown",
   "metadata": {},
   "source": [
    "## Singular Value Decomposition (SVD)\n",
    "\n",
    "Singular Value Decomposition breaks down the matrix into three basic linear transformations.\n",
    "\n",
    "$ \\huge A = U\\Sigma V^t $\n",
    "\n",
    "- $U$ is a rotation matrix. It is also an **orthogonal matrix**.\n",
    "- $\\Sigma$ is a scale matrix or diagonal matrix. Technically, we call it **singular values**\n",
    "- $V^t$ is rotation matrix. It is also an **orthogonal matrix**\n",
    "\n",
    "#### For example"
   ]
  },
  {
   "cell_type": "code",
   "execution_count": 17,
   "metadata": {},
   "outputs": [
    {
     "data": {
      "text/plain": [
       "<matplotlib.patches.Polygon at 0x1ba383b12b0>"
      ]
     },
     "execution_count": 17,
     "metadata": {},
     "output_type": "execute_result"
    },
    {
     "data": {
      "image/png": "[encoded data removed]",
      "text/plain": [
       "<Figure size 360x360 with 1 Axes>"
      ]
     },
     "metadata": {
      "needs_background": "light"
     },
     "output_type": "display_data"
    }
   ],
   "source": [
    "C = np.array([\n",
    "  [2  , 1],\n",
    "  [1.5, 1.5]\n",
    "])\n",
    "\n",
    "D = np.dot(C, P)\n",
    "\n",
    "ax = plot()\n",
    "ax.add_patch(patches.Polygon(np.transpose(P), fill=False, edgecolor='#95a5a6', linewidth=2, linestyle='--'))\n",
    "ax.add_patch(patches.Polygon(np.transpose(D), fill=False, edgecolor='#FF0000', linewidth=2))"
   ]
  },
  {
   "cell_type": "markdown",
   "metadata": {},
   "source": [
    "More explanation here"
   ]
  },
  {
   "cell_type": "code",
   "execution_count": 22,
   "metadata": {},
   "outputs": [
    {
     "data": {
      "text/plain": [
       "<matplotlib.patches.Polygon at 0x1ba3a0dafd0>"
      ]
     },
     "execution_count": 22,
     "metadata": {},
     "output_type": "execute_result"
    },
    {
     "data": {
      "image/png": "[encoded data removed]",
      "text/plain": [
       "<Figure size 720x720 with 4 Axes>"
      ]
     },
     "metadata": {
      "needs_background": "light"
     },
     "output_type": "display_data"
    }
   ],
   "source": [
    "U, S, Vt = np.linalg.svd(C)\n",
    "\n",
    "axs = plot(2, 2)\n",
    "\n",
    "axs[0][0].set_title(\"$P$\")\n",
    "axs[0][0].add_patch(patches.Polygon(np.transpose(P), fill=False, edgecolor='red', linewidth=2))\n",
    "axs[0][1].add_patch(patches.Polygon(np.transpose(P), fill=False, edgecolor='#95a5a6', linewidth=2, linestyle='--'))\n",
    "axs[1][0].add_patch(patches.Polygon(np.transpose(P), fill=False, edgecolor='#ecf0f1', linewidth=2, linestyle='--'))\n",
    "axs[1][1].add_patch(patches.Polygon(np.transpose(P), fill=False, edgecolor='#ecf0f1', linewidth=2, linestyle='--'))\n",
    "\n",
    "T = np.dot(Vt, P)\n",
    "axs[0][1].set_title(\"$V^t . P$\")\n",
    "axs[0][1].add_patch(patches.Polygon(np.transpose(T), fill=False, edgecolor='red', linewidth=2,))\n",
    "axs[1][0].add_patch(patches.Polygon(np.transpose(T), fill=False, edgecolor='#95a5a6', linewidth=2, linestyle='--'))\n",
    "axs[1][1].add_patch(patches.Polygon(np.transpose(T), fill=False, edgecolor='#ecf0f1', linewidth=2, linestyle='--'))\n",
    "\n",
    "T = np.dot(np.diag(S), T)\n",
    "axs[1][0].set_title(\"$\\Sigma . V^t . P $\")\n",
    "axs[1][1].add_patch(patches.Polygon(np.transpose(T), fill=False, edgecolor='#95a5a6', linewidth=2, linestyle='--'))\n",
    "axs[1][0].add_patch(patches.Polygon(np.transpose(T), fill=False, edgecolor='red', linewidth=2,))\n",
    "\n",
    "T = np.dot(U, T)\n",
    "axs[1][1].set_title(\"$U . \\Sigma . V^t . P $\")\n",
    "axs[1][1].add_patch(patches.Polygon(np.transpose(T), fill=False, edgecolor='red', linewidth=2,))"
   ]
  },
  {
   "cell_type": "markdown",
   "metadata": {},
   "source": [
    "### PCA and SVD Relation\n",
    "\n",
    "Explanation here"
   ]
  }
 ],
 "metadata": {
  "kernelspec": {
   "display_name": "Python 3",
   "language": "python",
   "name": "python3"
  },
  "language_info": {
   "codemirror_mode": {
    "name": "ipython",
    "version": 3
   },
   "file_extension": ".py",
   "mimetype": "text/x-python",
   "name": "python",
   "nbconvert_exporter": "python",
   "pygments_lexer": "ipython3",
   "version": "3.7.3"
  }
 },
 "nbformat": 4,
 "nbformat_minor": 2
}
