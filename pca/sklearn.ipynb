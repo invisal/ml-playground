{
 "cells": [
  {
   "cell_type": "code",
   "execution_count": 70,
   "metadata": {},
   "outputs": [
    {
     "name": "stdout",
     "output_type": "stream",
     "text": [
      "[0.69238527 0.21998767 0.05631231 0.06396044 0.80235637 0.30142381\n",
      " 0.37455094 0.61774875 0.08983681 0.5663908 ]\n"
     ]
    }
   ],
   "source": [
    "from sklearn.decomposition import PCA\n",
    "import numpy as np\n",
    "import matplotlib.pyplot as plt\n",
    "\n",
    "\n"
   ]
  },
  {
   "cell_type": "code",
   "execution_count": 113,
   "metadata": {},
   "outputs": [],
   "source": [
    "data = np.array([\n",
    " [1.41205819, 2.48438943],\n",
    " [0.87435703, 1.73657007],\n",
    " [3.84516794, 5.00362514],\n",
    " [3.09455465, 4.28594429],\n",
    " [4.1707495,  5.67680702],\n",
    " [0.32300892, 0.3641079 ],\n",
    " [3.2111913,  4.10294372],\n",
    " [4.07232516, 4.72161036],\n",
    " [0.61298967, 2.43723935],\n",
    " [2.74970078, 3.49511875],\n",
    " [3.6128198,  3.90756117],\n",
    " [2.10440143, 3.01596782],\n",
    " [2.34484048, 3.50988397],\n",
    " [0.55843837, 1.26614224],\n",
    " [1.70521924, 2.52861517],\n",
    " [1.57084028, 3.44007635],\n",
    " [2.51401195, 4.44218097],\n",
    " [4.66614767, 4.70587771],\n",
    " [0.75369264, 1.64649525],\n",
    " [3.93658659, 5.66619787]\n",
    "])"
   ]
  },
  {
   "cell_type": "code",
   "execution_count": 114,
   "metadata": {},
   "outputs": [],
   "source": [
    "plt.rcParams[\"figure.figsize\"] = (7, 7)\n",
    "\n",
    "def major_formatter(value, tick):\n",
    "  if value == 0:\n",
    "    return ''\n",
    "  return int(value)\n",
    "\n",
    "def beautify(ax, x1, x2, y1, y2):\n",
    "  ax.set_xlim(x1, x2)\n",
    "  ax.set_ylim(y1, y2)\n",
    "  ax.set_aspect('equal')\n",
    "  ax.spines['bottom'].set_position('zero')\n",
    "  ax.spines['left'].set_position('zero')\n",
    "  ax.spines['top'].set_visible(False)\n",
    "  ax.spines['right'].set_visible(False)\n",
    "  ax.spines['bottom'].set_color('#95a5a6')\n",
    "  ax.spines['left'].set_color('#95a5a6')\n",
    "  ax.xaxis.set_major_formatter(plt.FuncFormatter(major_formatter))\n",
    "  ax.yaxis.set_major_formatter(plt.FuncFormatter(major_formatter))\n",
    "\n",
    "  return ax\n",
    "\n",
    "def plot(x1, x2, y1, y2):\n",
    "  fig, axs = plt.subplots()\n",
    "  beautify(axs, x1, x2, y1, y2)\n",
    "  return [fig, axs]"
   ]
  },
  {
   "cell_type": "code",
   "execution_count": 121,
   "metadata": {},
   "outputs": [
    {
     "data": {
      "image/png": "[encoded data removed]",
      "text/plain": [
       "<Figure size 504x504 with 1 Axes>"
      ]
     },
     "metadata": {
      "needs_background": "light"
     },
     "output_type": "display_data"
    }
   ],
   "source": [
    "fig, p = plot(-2, 7, -2, 7)\n",
    "p.scatter(data[:,0], data[:,1], s=60, alpha=0.7)\n",
    "fig.savefig('graph.png', format='png', dpi=1200)"
   ]
  },
  {
   "cell_type": "code",
   "execution_count": 96,
   "metadata": {},
   "outputs": [
    {
     "data": {
      "text/plain": [
       "PCA(copy=True, iterated_power='auto', n_components=2, random_state=None,\n",
       "  svd_solver='auto', tol=0.0, whiten=False)"
      ]
     },
     "execution_count": 96,
     "metadata": {},
     "output_type": "execute_result"
    }
   ],
   "source": [
    "from sklearn.decomposition import PCA\n",
    "z = PCA(n_components = 2)\n",
    "z.fit(data)"
   ]
  },
  {
   "cell_type": "code",
   "execution_count": 116,
   "metadata": {},
   "outputs": [
    {
     "name": "stdout",
     "output_type": "stream",
     "text": [
      "[[ 1.36406018 -0.08618795]\n",
      " [ 2.27753226  0.03181663]\n",
      " [-2.13784926 -0.02960248]\n",
      " [-1.10097369 -0.08769868]\n",
      " [-2.85192812 -0.25156773]\n",
      " [ 3.65658001  0.56647956]\n",
      " [-1.04696742  0.12248372]\n",
      " [-2.08700524  0.32893291]\n",
      " [ 1.94425769 -0.63764464]\n",
      " [-0.28780208  0.20053934]\n",
      " [-1.17856437  0.54928817]\n",
      " [ 0.50291656  0.05645293]\n",
      " [-0.02207037 -0.10526539]\n",
      " [ 2.83691475  0.12236039]\n",
      " [ 1.13152975  0.09773843]\n",
      " [ 0.5575553  -0.62293661]\n",
      " [-0.81858653 -0.61845024]\n",
      " [-2.4810901   0.77342117]\n",
      " [ 2.42573808  0.00520074]\n",
      " [-2.68424739 -0.41536027]]\n"
     ]
    }
   ],
   "source": [
    "d = z.transform(data)\n",
    "print(d)"
   ]
  },
  {
   "cell_type": "code",
   "execution_count": 123,
   "metadata": {},
   "outputs": [
    {
     "data": {
      "image/png": "[encoded data removed]",
      "text/plain": [
       "<Figure size 504x504 with 1 Axes>"
      ]
     },
     "metadata": {
      "needs_background": "light"
     },
     "output_type": "display_data"
    }
   ],
   "source": [
    "fig, p = plot(-5, 5, -5, 5)\n",
    "p.scatter(d[:,0], d[:,1], s=60, alpha=0.7)\n",
    "fig.savefig('graph2.png', format='png', dpi=1200)"
   ]
  },
  {
   "cell_type": "code",
   "execution_count": null,
   "metadata": {},
   "outputs": [],
   "source": []
  }
 ],
 "metadata": {
  "kernelspec": {
   "display_name": "Python 3",
   "language": "python",
   "name": "python3"
  },
  "language_info": {
   "codemirror_mode": {
    "name": "ipython",
    "version": 3
   },
   "file_extension": ".py",
   "mimetype": "text/x-python",
   "name": "python",
   "nbconvert_exporter": "python",
   "pygments_lexer": "ipython3",
   "version": "3.7.3"
  }
 },
 "nbformat": 4,
 "nbformat_minor": 2
}
