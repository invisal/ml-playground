{
 "cells": [
  {
   "cell_type": "code",
   "execution_count": 10,
   "metadata": {},
   "outputs": [],
   "source": [
    "from sklearn.decomposition import PCA\n",
    "import numpy as np\n",
    "import matplotlib.pyplot as plt\n",
    "\n",
    "data = np.array([ \n",
    "  [ 1, 2 ],\n",
    "  [ 1.5, 3.3 ],\n",
    "  [ 1.3, 2.5 ],\n",
    "  [ 2, 3.7 ],\n",
    "  [ 2.2, 4.3 ]\n",
    "])\n"
   ]
  },
  {
   "cell_type": "code",
   "execution_count": 14,
   "metadata": {},
   "outputs": [],
   "source": [
    "def major_formatter(value, tick):\n",
    "  if value == 0:\n",
    "    return ''\n",
    "  return int(value)\n",
    "\n",
    "def beautify(ax):\n",
    "  ax.set_xlim(-2, 5)\n",
    "  ax.set_ylim(-2, 5)\n",
    "  ax.set_aspect('equal')\n",
    "  ax.spines['bottom'].set_position('zero')\n",
    "  ax.spines['left'].set_position('zero')\n",
    "  ax.spines['top'].set_visible(False)\n",
    "  ax.spines['right'].set_visible(False)\n",
    "  ax.spines['bottom'].set_color('#95a5a6')\n",
    "  ax.spines['left'].set_color('#95a5a6')\n",
    "  ax.xaxis.set_major_formatter(plt.FuncFormatter(major_formatter))\n",
    "  ax.yaxis.set_major_formatter(plt.FuncFormatter(major_formatter))\n",
    "\n",
    "  return ax\n",
    "\n",
    "def plot(x = 1, y = 1):\n",
    "  fig, axs = plt.subplots(x, y)\n",
    "  plt.rcParams[\"figure.figsize\"] = (5 * x, 5 * y)\n",
    "  if (x * y > 1):\n",
    "    for ax in axs.ravel():\n",
    "      beautify(ax)\n",
    "  else:\n",
    "    beautify(axs)\n",
    "  return axs"
   ]
  },
  {
   "cell_type": "code",
   "execution_count": 15,
   "metadata": {},
   "outputs": [
    {
     "data": {
      "text/plain": [
       "<matplotlib.collections.PathCollection at 0x1c23f1bc5f8>"
      ]
     },
     "execution_count": 15,
     "metadata": {},
     "output_type": "execute_result"
    },
    {
     "data": {
      "image/png": "[encoded data removed]",
      "text/plain": [
       "<Figure size 360x360 with 1 Axes>"
      ]
     },
     "metadata": {
      "needs_background": "light"
     },
     "output_type": "display_data"
    }
   ],
   "source": [
    "p = plot()\n",
    "p.scatter(data[:,0], data[:,1])"
   ]
  },
  {
   "cell_type": "code",
   "execution_count": null,
   "metadata": {},
   "outputs": [],
   "source": []
  }
 ],
 "metadata": {
  "kernelspec": {
   "display_name": "Python 3",
   "language": "python",
   "name": "python3"
  },
  "language_info": {
   "codemirror_mode": {
    "name": "ipython",
    "version": 3
   },
   "file_extension": ".py",
   "mimetype": "text/x-python",
   "name": "python",
   "nbconvert_exporter": "python",
   "pygments_lexer": "ipython3",
   "version": "3.7.3"
  }
 },
 "nbformat": 4,
 "nbformat_minor": 2
}
